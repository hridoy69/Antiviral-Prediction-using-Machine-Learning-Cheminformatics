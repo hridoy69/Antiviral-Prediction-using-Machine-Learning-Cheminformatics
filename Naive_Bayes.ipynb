{
 "cells": [
  {
   "cell_type": "code",
   "execution_count": 1,
   "metadata": {
    "_cell_guid": "b1076dfc-b9ad-4769-8c92-a6c4dae69d19",
    "_uuid": "8f2839f25d086af736a60e9eeb907d3b93b6e0e5"
   },
   "outputs": [],
   "source": [
    "import numpy as np\n",
    "import pandas as pd\n",
    "from sklearn.model_selection import train_test_split\n",
    "from sklearn.preprocessing import StandardScaler\n",
    "from sklearn.metrics import classification_report, confusion_matrix, roc_curve, roc_auc_score\n",
    "import pickle\n",
    "import matplotlib.pyplot as plt\n",
    "import seaborn as sns"
   ]
  },
  {
   "cell_type": "code",
   "execution_count": 2,
   "metadata": {
    "_uuid": "8d0ffd4e0549f6f2eb24c7cc258256f2fb63ec48"
   },
   "outputs": [],
   "source": [
    "# We are reading our data\n",
    "df = pd.read_csv(\"C:/Users/NEIST/Desktop/Pre/main_datasets/feature_importance_nonzero_100.csv\")"
   ]
  },
  {
   "cell_type": "code",
   "execution_count": 3,
   "metadata": {
    "_uuid": "4dee2636361981b0f92a8a585d49f581283d6222"
   },
   "outputs": [
    {
     "data": {
      "text/html": [
       "<div>\n",
       "<style scoped>\n",
       "    .dataframe tbody tr th:only-of-type {\n",
       "        vertical-align: middle;\n",
       "    }\n",
       "\n",
       "    .dataframe tbody tr th {\n",
       "        vertical-align: top;\n",
       "    }\n",
       "\n",
       "    .dataframe thead th {\n",
       "        text-align: right;\n",
       "    }\n",
       "</style>\n",
       "<table border=\"1\" class=\"dataframe\">\n",
       "  <thead>\n",
       "    <tr style=\"text-align: right;\">\n",
       "      <th></th>\n",
       "      <th>MAXssNH</th>\n",
       "      <th>ATS8dv</th>\n",
       "      <th>MATS4s</th>\n",
       "      <th>MINssNH</th>\n",
       "      <th>SlogP_VSA8</th>\n",
       "      <th>NsssN</th>\n",
       "      <th>PEOE_VSA3</th>\n",
       "      <th>MATS1s</th>\n",
       "      <th>ATSC3v</th>\n",
       "      <th>GATS1se</th>\n",
       "      <th>...</th>\n",
       "      <th>piPC6</th>\n",
       "      <th>TIC5</th>\n",
       "      <th>NsssCH</th>\n",
       "      <th>GATS8v</th>\n",
       "      <th>MATS1se</th>\n",
       "      <th>SMR_VSA1</th>\n",
       "      <th>ATS6d</th>\n",
       "      <th>AATS1p</th>\n",
       "      <th>AATS4i</th>\n",
       "      <th>target</th>\n",
       "    </tr>\n",
       "  </thead>\n",
       "  <tbody>\n",
       "    <tr>\n",
       "      <th>0</th>\n",
       "      <td>1.911486</td>\n",
       "      <td>37.00000</td>\n",
       "      <td>0.434966</td>\n",
       "      <td>1.828183</td>\n",
       "      <td>6.514573</td>\n",
       "      <td>0</td>\n",
       "      <td>4.794537</td>\n",
       "      <td>0.624413</td>\n",
       "      <td>0.677585</td>\n",
       "      <td>0.839738</td>\n",
       "      <td>...</td>\n",
       "      <td>5.394479</td>\n",
       "      <td>136.451830</td>\n",
       "      <td>2</td>\n",
       "      <td>0.888628</td>\n",
       "      <td>0.583146</td>\n",
       "      <td>9.843390</td>\n",
       "      <td>114</td>\n",
       "      <td>1.614025</td>\n",
       "      <td>170.323501</td>\n",
       "      <td>True</td>\n",
       "    </tr>\n",
       "    <tr>\n",
       "      <th>1</th>\n",
       "      <td>1.911486</td>\n",
       "      <td>570.00000</td>\n",
       "      <td>0.366367</td>\n",
       "      <td>1.828183</td>\n",
       "      <td>6.514573</td>\n",
       "      <td>0</td>\n",
       "      <td>9.740499</td>\n",
       "      <td>0.622895</td>\n",
       "      <td>0.670756</td>\n",
       "      <td>0.878124</td>\n",
       "      <td>...</td>\n",
       "      <td>6.478029</td>\n",
       "      <td>278.158203</td>\n",
       "      <td>4</td>\n",
       "      <td>1.065283</td>\n",
       "      <td>0.619973</td>\n",
       "      <td>38.322242</td>\n",
       "      <td>494</td>\n",
       "      <td>1.757999</td>\n",
       "      <td>152.980242</td>\n",
       "      <td>False</td>\n",
       "    </tr>\n",
       "    <tr>\n",
       "      <th>2</th>\n",
       "      <td>1.911486</td>\n",
       "      <td>677.00000</td>\n",
       "      <td>0.440137</td>\n",
       "      <td>1.828183</td>\n",
       "      <td>10.902925</td>\n",
       "      <td>1</td>\n",
       "      <td>9.184952</td>\n",
       "      <td>0.642844</td>\n",
       "      <td>0.730527</td>\n",
       "      <td>0.714820</td>\n",
       "      <td>...</td>\n",
       "      <td>6.965788</td>\n",
       "      <td>359.189245</td>\n",
       "      <td>2</td>\n",
       "      <td>0.894598</td>\n",
       "      <td>0.632082</td>\n",
       "      <td>28.929407</td>\n",
       "      <td>579</td>\n",
       "      <td>1.834005</td>\n",
       "      <td>159.715201</td>\n",
       "      <td>True</td>\n",
       "    </tr>\n",
       "    <tr>\n",
       "      <th>3</th>\n",
       "      <td>1.911486</td>\n",
       "      <td>609.00000</td>\n",
       "      <td>0.471647</td>\n",
       "      <td>1.828183</td>\n",
       "      <td>10.902925</td>\n",
       "      <td>1</td>\n",
       "      <td>9.184952</td>\n",
       "      <td>0.643440</td>\n",
       "      <td>0.729395</td>\n",
       "      <td>0.728963</td>\n",
       "      <td>...</td>\n",
       "      <td>6.942398</td>\n",
       "      <td>364.665349</td>\n",
       "      <td>2</td>\n",
       "      <td>0.911993</td>\n",
       "      <td>0.636223</td>\n",
       "      <td>24.134870</td>\n",
       "      <td>579</td>\n",
       "      <td>1.820291</td>\n",
       "      <td>160.166073</td>\n",
       "      <td>True</td>\n",
       "    </tr>\n",
       "    <tr>\n",
       "      <th>4</th>\n",
       "      <td>1.911486</td>\n",
       "      <td>705.00000</td>\n",
       "      <td>0.435364</td>\n",
       "      <td>1.828183</td>\n",
       "      <td>10.902925</td>\n",
       "      <td>1</td>\n",
       "      <td>13.979489</td>\n",
       "      <td>0.632944</td>\n",
       "      <td>0.717904</td>\n",
       "      <td>0.752570</td>\n",
       "      <td>...</td>\n",
       "      <td>6.965788</td>\n",
       "      <td>346.303973</td>\n",
       "      <td>2</td>\n",
       "      <td>0.928623</td>\n",
       "      <td>0.620295</td>\n",
       "      <td>33.666270</td>\n",
       "      <td>563</td>\n",
       "      <td>1.811911</td>\n",
       "      <td>159.522315</td>\n",
       "      <td>True</td>\n",
       "    </tr>\n",
       "    <tr>\n",
       "      <th>...</th>\n",
       "      <td>...</td>\n",
       "      <td>...</td>\n",
       "      <td>...</td>\n",
       "      <td>...</td>\n",
       "      <td>...</td>\n",
       "      <td>...</td>\n",
       "      <td>...</td>\n",
       "      <td>...</td>\n",
       "      <td>...</td>\n",
       "      <td>...</td>\n",
       "      <td>...</td>\n",
       "      <td>...</td>\n",
       "      <td>...</td>\n",
       "      <td>...</td>\n",
       "      <td>...</td>\n",
       "      <td>...</td>\n",
       "      <td>...</td>\n",
       "      <td>...</td>\n",
       "      <td>...</td>\n",
       "      <td>...</td>\n",
       "      <td>...</td>\n",
       "    </tr>\n",
       "    <tr>\n",
       "      <th>2353</th>\n",
       "      <td>1.911486</td>\n",
       "      <td>523.92297</td>\n",
       "      <td>0.690171</td>\n",
       "      <td>1.828183</td>\n",
       "      <td>6.514573</td>\n",
       "      <td>0</td>\n",
       "      <td>9.184952</td>\n",
       "      <td>0.229887</td>\n",
       "      <td>0.695284</td>\n",
       "      <td>1.334922</td>\n",
       "      <td>...</td>\n",
       "      <td>5.947411</td>\n",
       "      <td>44.105716</td>\n",
       "      <td>1</td>\n",
       "      <td>1.022545</td>\n",
       "      <td>0.222710</td>\n",
       "      <td>28.643351</td>\n",
       "      <td>2</td>\n",
       "      <td>1.992625</td>\n",
       "      <td>188.249683</td>\n",
       "      <td>False</td>\n",
       "    </tr>\n",
       "    <tr>\n",
       "      <th>2354</th>\n",
       "      <td>1.911486</td>\n",
       "      <td>139.00000</td>\n",
       "      <td>0.437876</td>\n",
       "      <td>1.828183</td>\n",
       "      <td>11.163878</td>\n",
       "      <td>0</td>\n",
       "      <td>4.983979</td>\n",
       "      <td>0.516223</td>\n",
       "      <td>0.718734</td>\n",
       "      <td>1.090520</td>\n",
       "      <td>...</td>\n",
       "      <td>5.952147</td>\n",
       "      <td>161.362413</td>\n",
       "      <td>1</td>\n",
       "      <td>1.125284</td>\n",
       "      <td>0.509523</td>\n",
       "      <td>14.949918</td>\n",
       "      <td>173</td>\n",
       "      <td>1.553333</td>\n",
       "      <td>169.062438</td>\n",
       "      <td>False</td>\n",
       "    </tr>\n",
       "    <tr>\n",
       "      <th>2355</th>\n",
       "      <td>1.911486</td>\n",
       "      <td>6.00000</td>\n",
       "      <td>0.520652</td>\n",
       "      <td>1.828183</td>\n",
       "      <td>21.936326</td>\n",
       "      <td>0</td>\n",
       "      <td>9.967957</td>\n",
       "      <td>0.526744</td>\n",
       "      <td>0.689115</td>\n",
       "      <td>1.043889</td>\n",
       "      <td>...</td>\n",
       "      <td>6.620969</td>\n",
       "      <td>151.463962</td>\n",
       "      <td>1</td>\n",
       "      <td>1.163003</td>\n",
       "      <td>0.630821</td>\n",
       "      <td>22.938348</td>\n",
       "      <td>176</td>\n",
       "      <td>1.811649</td>\n",
       "      <td>166.616351</td>\n",
       "      <td>False</td>\n",
       "    </tr>\n",
       "    <tr>\n",
       "      <th>2356</th>\n",
       "      <td>1.911486</td>\n",
       "      <td>68.00000</td>\n",
       "      <td>0.507224</td>\n",
       "      <td>1.828183</td>\n",
       "      <td>11.163878</td>\n",
       "      <td>0</td>\n",
       "      <td>4.983979</td>\n",
       "      <td>0.512856</td>\n",
       "      <td>0.719229</td>\n",
       "      <td>1.035548</td>\n",
       "      <td>...</td>\n",
       "      <td>6.054256</td>\n",
       "      <td>122.381963</td>\n",
       "      <td>0</td>\n",
       "      <td>1.116907</td>\n",
       "      <td>0.463305</td>\n",
       "      <td>5.106527</td>\n",
       "      <td>94</td>\n",
       "      <td>1.625828</td>\n",
       "      <td>167.681446</td>\n",
       "      <td>False</td>\n",
       "    </tr>\n",
       "    <tr>\n",
       "      <th>2357</th>\n",
       "      <td>1.911486</td>\n",
       "      <td>68.00000</td>\n",
       "      <td>0.509174</td>\n",
       "      <td>1.828183</td>\n",
       "      <td>11.163878</td>\n",
       "      <td>0</td>\n",
       "      <td>4.983979</td>\n",
       "      <td>0.491382</td>\n",
       "      <td>0.689188</td>\n",
       "      <td>1.071180</td>\n",
       "      <td>...</td>\n",
       "      <td>6.107406</td>\n",
       "      <td>110.096405</td>\n",
       "      <td>0</td>\n",
       "      <td>1.290400</td>\n",
       "      <td>0.426064</td>\n",
       "      <td>5.106527</td>\n",
       "      <td>79</td>\n",
       "      <td>1.665234</td>\n",
       "      <td>165.358652</td>\n",
       "      <td>False</td>\n",
       "    </tr>\n",
       "  </tbody>\n",
       "</table>\n",
       "<p>2358 rows × 101 columns</p>\n",
       "</div>"
      ],
      "text/plain": [
       "       MAXssNH     ATS8dv    MATS4s   MINssNH  SlogP_VSA8  NsssN  PEOE_VSA3  \\\n",
       "0     1.911486   37.00000  0.434966  1.828183    6.514573      0   4.794537   \n",
       "1     1.911486  570.00000  0.366367  1.828183    6.514573      0   9.740499   \n",
       "2     1.911486  677.00000  0.440137  1.828183   10.902925      1   9.184952   \n",
       "3     1.911486  609.00000  0.471647  1.828183   10.902925      1   9.184952   \n",
       "4     1.911486  705.00000  0.435364  1.828183   10.902925      1  13.979489   \n",
       "...        ...        ...       ...       ...         ...    ...        ...   \n",
       "2353  1.911486  523.92297  0.690171  1.828183    6.514573      0   9.184952   \n",
       "2354  1.911486  139.00000  0.437876  1.828183   11.163878      0   4.983979   \n",
       "2355  1.911486    6.00000  0.520652  1.828183   21.936326      0   9.967957   \n",
       "2356  1.911486   68.00000  0.507224  1.828183   11.163878      0   4.983979   \n",
       "2357  1.911486   68.00000  0.509174  1.828183   11.163878      0   4.983979   \n",
       "\n",
       "        MATS1s    ATSC3v   GATS1se  ...     piPC6        TIC5  NsssCH  \\\n",
       "0     0.624413  0.677585  0.839738  ...  5.394479  136.451830       2   \n",
       "1     0.622895  0.670756  0.878124  ...  6.478029  278.158203       4   \n",
       "2     0.642844  0.730527  0.714820  ...  6.965788  359.189245       2   \n",
       "3     0.643440  0.729395  0.728963  ...  6.942398  364.665349       2   \n",
       "4     0.632944  0.717904  0.752570  ...  6.965788  346.303973       2   \n",
       "...        ...       ...       ...  ...       ...         ...     ...   \n",
       "2353  0.229887  0.695284  1.334922  ...  5.947411   44.105716       1   \n",
       "2354  0.516223  0.718734  1.090520  ...  5.952147  161.362413       1   \n",
       "2355  0.526744  0.689115  1.043889  ...  6.620969  151.463962       1   \n",
       "2356  0.512856  0.719229  1.035548  ...  6.054256  122.381963       0   \n",
       "2357  0.491382  0.689188  1.071180  ...  6.107406  110.096405       0   \n",
       "\n",
       "        GATS8v   MATS1se   SMR_VSA1  ATS6d    AATS1p      AATS4i  target  \n",
       "0     0.888628  0.583146   9.843390    114  1.614025  170.323501    True  \n",
       "1     1.065283  0.619973  38.322242    494  1.757999  152.980242   False  \n",
       "2     0.894598  0.632082  28.929407    579  1.834005  159.715201    True  \n",
       "3     0.911993  0.636223  24.134870    579  1.820291  160.166073    True  \n",
       "4     0.928623  0.620295  33.666270    563  1.811911  159.522315    True  \n",
       "...        ...       ...        ...    ...       ...         ...     ...  \n",
       "2353  1.022545  0.222710  28.643351      2  1.992625  188.249683   False  \n",
       "2354  1.125284  0.509523  14.949918    173  1.553333  169.062438   False  \n",
       "2355  1.163003  0.630821  22.938348    176  1.811649  166.616351   False  \n",
       "2356  1.116907  0.463305   5.106527     94  1.625828  167.681446   False  \n",
       "2357  1.290400  0.426064   5.106527     79  1.665234  165.358652   False  \n",
       "\n",
       "[2358 rows x 101 columns]"
      ]
     },
     "execution_count": 3,
     "metadata": {},
     "output_type": "execute_result"
    }
   ],
   "source": [
    "# First 5 rows of our data\n",
    "df"
   ]
  },
  {
   "cell_type": "code",
   "execution_count": 4,
   "metadata": {
    "_uuid": "00af1961381609399dd80ca7c6a950277c120357"
   },
   "outputs": [
    {
     "data": {
      "text/plain": [
       "True     1298\n",
       "False    1060\n",
       "Name: target, dtype: int64"
      ]
     },
     "execution_count": 4,
     "metadata": {},
     "output_type": "execute_result"
    }
   ],
   "source": [
    "df.target.value_counts()"
   ]
  },
  {
   "cell_type": "code",
   "execution_count": 5,
   "metadata": {
    "_uuid": "f0c639a82d794e41978199f7fa4405a01a7b805e"
   },
   "outputs": [
    {
     "data": {
      "image/png": "[encoded data removed]",
      "text/plain": [
       "<Figure size 432x288 with 1 Axes>"
      ]
     },
     "metadata": {
      "needs_background": "light"
     },
     "output_type": "display_data"
    }
   ],
   "source": [
    "sns.countplot(x=\"target\", data=df, palette=\"bwr\")\n",
    "plt.show()"
   ]
  },
  {
   "cell_type": "code",
   "execution_count": 6,
   "metadata": {
    "_uuid": "dd20ffc31d87de07a6f2941b0500cda8c0b1b8e6"
   },
   "outputs": [
    {
     "name": "stdout",
     "output_type": "stream",
     "text": [
      "Percentage of values with False: 44.95%\n",
      "Percentage of values with True: 55.05%\n"
     ]
    }
   ],
   "source": [
    "countNoDisease = len(df[df.target == False])\n",
    "countHaveDisease = len(df[df.target == True])\n",
    "print(\"Percentage of values with False: {:.2f}%\".format((countNoDisease / (len(df.target))*100)))\n",
    "print(\"Percentage of values with True: {:.2f}%\".format((countHaveDisease / (len(df.target))*100)))"
   ]
  },
  {
   "cell_type": "code",
   "execution_count": 7,
   "metadata": {
    "_uuid": "2e4577118ef837e24c955ea81562d8fb51a22b1c"
   },
   "outputs": [],
   "source": [
    "y = df.target.values\n",
    "x_data = df.drop(['target'], axis = 1)"
   ]
  },
  {
   "cell_type": "code",
   "execution_count": 8,
   "metadata": {
    "_uuid": "c60916b235e1962a53f95593b8d020c0acc079ed"
   },
   "outputs": [],
   "source": [
    "# Normalize\n",
    "x = (x_data - np.min(x_data)) / (np.max(x_data) - np.min(x_data)).values"
   ]
  },
  {
   "cell_type": "code",
   "execution_count": 9,
   "metadata": {
    "_uuid": "3090d1ba1e8776706d23a1175db6d1451908a954"
   },
   "outputs": [],
   "source": [
    "x_train, x_test, y_train, y_test = train_test_split(x,y,test_size = 0.2,random_state=0)"
   ]
  },
  {
   "cell_type": "code",
   "execution_count": 10,
   "metadata": {},
   "outputs": [],
   "source": [
    "x_train, x_val, y_train, y_val = train_test_split(x_train,y_train,test_size = 0.10,random_state=0)"
   ]
  },
  {
   "cell_type": "code",
   "execution_count": 11,
   "metadata": {
    "_uuid": "880e2db253fd1125bfa065ba0ae8840b68687e42"
   },
   "outputs": [],
   "source": [
    "#transpose matrices\n",
    "x_train = x_train.T\n",
    "y_train = y_train.T\n",
    "x_test = x_test.T\n",
    "y_test = y_test.T\n",
    "x_val = x_val.T\n",
    "y_val = y_val.T"
   ]
  },
  {
   "cell_type": "code",
   "execution_count": 12,
   "metadata": {
    "_uuid": "0544f45710912dab11c597b9a743bdc712f1e826"
   },
   "outputs": [
    {
     "name": "stdout",
     "output_type": "stream",
     "text": [
      "76.48305084745762\n",
      "76.25220978196819\n",
      "76.19047619047619\n"
     ]
    }
   ],
   "source": [
    "from sklearn.naive_bayes import GaussianNB\n",
    "nb = GaussianNB()\n",
    "nb.fit(x_train.T, y_train.T)\n",
    "predictions = nb.predict(x_test.T)\n",
    "predictions_tr = nb.predict(x_train.T)\n",
    "acc = nb.score(x_test.T,y_test.T)*100\n",
    "acc_tr =nb.score(x_train.T,y_train.T)*100\n",
    "print(acc)\n",
    "print(acc_tr)\n",
    "predictions_val = nb.predict(x_val.T)\n",
    "acc_val =nb.score(x_val.T,y_val.T)*100\n",
    "print(acc_val)"
   ]
  },
  {
   "cell_type": "code",
   "execution_count": 13,
   "metadata": {},
   "outputs": [
    {
     "name": "stdout",
     "output_type": "stream",
     "text": [
      "[0.77647059 0.77058824 0.72352941 0.75882353 0.74117647 0.70588235\n",
      " 0.77647059 0.76923077 0.79289941 0.76331361]\n",
      "0.7578384963452837\n"
     ]
    }
   ],
   "source": [
    "from sklearn.model_selection import cross_val_score\n",
    "accuracies = cross_val_score(estimator=nb, X=x_train.T, y=y_train.T, cv=10)\n",
    "print(accuracies)\n",
    "print(accuracies.mean())"
   ]
  },
  {
   "cell_type": "code",
   "execution_count": 14,
   "metadata": {},
   "outputs": [
    {
     "name": "stdout",
     "output_type": "stream",
     "text": [
      "[[165  45]\n",
      " [ 66 196]]\n",
      "              precision    recall  f1-score   support\n",
      "\n",
      "       False       0.71      0.79      0.75       210\n",
      "        True       0.81      0.75      0.78       262\n",
      "\n",
      "    accuracy                           0.76       472\n",
      "   macro avg       0.76      0.77      0.76       472\n",
      "weighted avg       0.77      0.76      0.77       472\n",
      "\n",
      "[[603 163]\n",
      " [240 691]]\n",
      "              precision    recall  f1-score   support\n",
      "\n",
      "       False       0.72      0.79      0.75       766\n",
      "        True       0.81      0.74      0.77       931\n",
      "\n",
      "    accuracy                           0.76      1697\n",
      "   macro avg       0.76      0.76      0.76      1697\n",
      "weighted avg       0.77      0.76      0.76      1697\n",
      "\n",
      "[[64 20]\n",
      " [25 80]]\n",
      "              precision    recall  f1-score   support\n",
      "\n",
      "       False       0.72      0.76      0.74        84\n",
      "        True       0.80      0.76      0.78       105\n",
      "\n",
      "    accuracy                           0.76       189\n",
      "   macro avg       0.76      0.76      0.76       189\n",
      "weighted avg       0.76      0.76      0.76       189\n",
      "\n"
     ]
    }
   ],
   "source": [
    "cf =(confusion_matrix(y_test, predictions))\n",
    "cf_val =(confusion_matrix(y_val, predictions_val))\n",
    "print(confusion_matrix(y_test, predictions))\n",
    "print(classification_report(y_test, predictions))\n",
    "print(confusion_matrix(y_train, predictions_tr))\n",
    "print(classification_report(y_train, predictions_tr))\n",
    "print(confusion_matrix(y_val, predictions_val))\n",
    "print(classification_report(y_val, predictions_val))"
   ]
  },
  {
   "cell_type": "code",
   "execution_count": 15,
   "metadata": {},
   "outputs": [
    {
     "data": {
      "text/plain": [
       "0.5306756276821181"
      ]
     },
     "execution_count": 15,
     "metadata": {},
     "output_type": "execute_result"
    }
   ],
   "source": [
    "from sklearn.metrics import matthews_corrcoef\n",
    "matthews_corrcoef(y_test, predictions)"
   ]
  },
  {
   "cell_type": "code",
   "execution_count": 16,
   "metadata": {},
   "outputs": [
    {
     "data": {
      "text/plain": [
       "0.5214500094539749"
      ]
     },
     "execution_count": 16,
     "metadata": {},
     "output_type": "execute_result"
    }
   ],
   "source": [
    "from sklearn.metrics import matthews_corrcoef\n",
    "matthews_corrcoef(y_val, predictions_val)"
   ]
  },
  {
   "cell_type": "code",
   "execution_count": 17,
   "metadata": {},
   "outputs": [
    {
     "data": {
      "text/plain": [
       "<matplotlib.axes._subplots.AxesSubplot at 0x210444a9430>"
      ]
     },
     "execution_count": 17,
     "metadata": {},
     "output_type": "execute_result"
    },
    {
     "data": {
      "image/png": "[encoded data removed]",
      "text/plain": [
       "<Figure size 432x288 with 1 Axes>"
      ]
     },
     "metadata": {
      "needs_background": "light"
     },
     "output_type": "display_data"
    }
   ],
   "source": [
    "cf_plt =sns.heatmap(cf,annot=True,cmap=\"Blues\",fmt=\"d\",cbar=False, annot_kws={\"size\": 24})\n",
    "cf_plt.set(xlabel = \"True Value\", ylabel =\"Actual Value\")\n",
    "cf_plt"
   ]
  },
  {
   "cell_type": "code",
   "execution_count": 18,
   "metadata": {},
   "outputs": [
    {
     "data": {
      "text/plain": [
       "<matplotlib.axes._subplots.AxesSubplot at 0x210442acbe0>"
      ]
     },
     "execution_count": 18,
     "metadata": {},
     "output_type": "execute_result"
    },
    {
     "data": {
      "image/png": "[encoded data removed]",
      "text/plain": [
       "<Figure size 432x288 with 1 Axes>"
      ]
     },
     "metadata": {
      "needs_background": "light"
     },
     "output_type": "display_data"
    }
   ],
   "source": [
    "cf_plt =sns.heatmap(cf_val,annot=True,cmap=\"Blues\",fmt=\"d\",cbar=False, annot_kws={\"size\": 24})\n",
    "cf_plt.set(xlabel = \"True Value\", ylabel =\"Actual Value\")\n",
    "cf_plt"
   ]
  },
  {
   "cell_type": "code",
   "execution_count": null,
   "metadata": {},
   "outputs": [],
   "source": []
  }
 ],
 "metadata": {
  "kernelspec": {
   "display_name": "Python 3",
   "language": "python",
   "name": "python3"
  },
  "language_info": {
   "codemirror_mode": {
    "name": "ipython",
    "version": 3
   },
   "file_extension": ".py",
   "mimetype": "text/x-python",
   "name": "python",
   "nbconvert_exporter": "python",
   "pygments_lexer": "ipython3",
   "version": "3.8.3"
  },
  "toc": {
   "base_numbering": 1,
   "nav_menu": {},
   "number_sections": true,
   "sideBar": true,
   "skip_h1_title": false,
   "title_cell": "Table of Contents",
   "title_sidebar": "Contents",
   "toc_cell": false,
   "toc_position": {},
   "toc_section_display": true,
   "toc_window_display": false
  }
 },
 "nbformat": 4,
 "nbformat_minor": 1
}
