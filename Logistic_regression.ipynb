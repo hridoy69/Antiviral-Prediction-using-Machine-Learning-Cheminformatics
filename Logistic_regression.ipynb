{
 "cells": [
  {
   "cell_type": "code",
   "execution_count": 1,
   "metadata": {
    "_cell_guid": "b1076dfc-b9ad-4769-8c92-a6c4dae69d19",
    "_uuid": "8f2839f25d086af736a60e9eeb907d3b93b6e0e5"
   },
   "outputs": [],
   "source": [
    "#importing pacakges\n",
    "import numpy as np\n",
    "import pandas as pd\n",
    "import matplotlib.pyplot as plt\n",
    "import seaborn as sns\n",
    "from sklearn.linear_model import LogisticRegression\n",
    "from sklearn.model_selection import train_test_split\n",
    "from sklearn.metrics import classification_report, confusion_matrix, mean_absolute_error, mean_squared_error, r2_score, roc_auc_score, cohen_kappa_score\n",
    "import pickle"
   ]
  },
  {
   "cell_type": "code",
   "execution_count": 2,
   "metadata": {
    "_uuid": "8d0ffd4e0549f6f2eb24c7cc258256f2fb63ec48"
   },
   "outputs": [],
   "source": [
    "# We are reading our data\n",
    "df = pd.read_csv(\"C:/Users/NEIST/Desktop/Pre/main_datasets/MI_dataset_100.csv\")"
   ]
  },
  {
   "cell_type": "code",
   "execution_count": 3,
   "metadata": {
    "_uuid": "4dee2636361981b0f92a8a585d49f581283d6222"
   },
   "outputs": [
    {
     "data": {
      "text/html": [
       "<div>\n",
       "<style scoped>\n",
       "    .dataframe tbody tr th:only-of-type {\n",
       "        vertical-align: middle;\n",
       "    }\n",
       "\n",
       "    .dataframe tbody tr th {\n",
       "        vertical-align: top;\n",
       "    }\n",
       "\n",
       "    .dataframe thead th {\n",
       "        text-align: right;\n",
       "    }\n",
       "</style>\n",
       "<table border=\"1\" class=\"dataframe\">\n",
       "  <thead>\n",
       "    <tr style=\"text-align: right;\">\n",
       "      <th></th>\n",
       "      <th>BCUTv-1l</th>\n",
       "      <th>BCUTi-1h</th>\n",
       "      <th>BCUTp-1l</th>\n",
       "      <th>BCUTZ-1l</th>\n",
       "      <th>BCUTd-1h</th>\n",
       "      <th>BCUTare-1l</th>\n",
       "      <th>BCUTs-1l</th>\n",
       "      <th>BCUTse-1l</th>\n",
       "      <th>BCUTpe-1l</th>\n",
       "      <th>PEOE_VSA9</th>\n",
       "      <th>...</th>\n",
       "      <th>piPC4</th>\n",
       "      <th>ETA_dEpsilon_D</th>\n",
       "      <th>GATS1se</th>\n",
       "      <th>SRW09</th>\n",
       "      <th>SMR_VSA6</th>\n",
       "      <th>AATS1i</th>\n",
       "      <th>MDEC-22</th>\n",
       "      <th>VR1_DzZ</th>\n",
       "      <th>VR3_Dzpe</th>\n",
       "      <th>target</th>\n",
       "    </tr>\n",
       "  </thead>\n",
       "  <tbody>\n",
       "    <tr>\n",
       "      <th>0</th>\n",
       "      <td>14.701776</td>\n",
       "      <td>14.557741</td>\n",
       "      <td>0.744080</td>\n",
       "      <td>5.748825</td>\n",
       "      <td>3.218349</td>\n",
       "      <td>2.238180</td>\n",
       "      <td>1.240005</td>\n",
       "      <td>2.479451</td>\n",
       "      <td>2.284833</td>\n",
       "      <td>12.710848</td>\n",
       "      <td>...</td>\n",
       "      <td>4.754667</td>\n",
       "      <td>0.492929</td>\n",
       "      <td>0.839738</td>\n",
       "      <td>6.580639</td>\n",
       "      <td>6.606882</td>\n",
       "      <td>151.382734</td>\n",
       "      <td>2.249577</td>\n",
       "      <td>74.441211</td>\n",
       "      <td>4.780763</td>\n",
       "      <td>1</td>\n",
       "    </tr>\n",
       "    <tr>\n",
       "      <th>1</th>\n",
       "      <td>14.700550</td>\n",
       "      <td>13.644287</td>\n",
       "      <td>0.741446</td>\n",
       "      <td>5.679853</td>\n",
       "      <td>3.258335</td>\n",
       "      <td>2.178923</td>\n",
       "      <td>1.143745</td>\n",
       "      <td>2.424758</td>\n",
       "      <td>2.228722</td>\n",
       "      <td>39.958147</td>\n",
       "      <td>...</td>\n",
       "      <td>5.547129</td>\n",
       "      <td>0.364441</td>\n",
       "      <td>0.878124</td>\n",
       "      <td>7.412764</td>\n",
       "      <td>34.729217</td>\n",
       "      <td>144.347348</td>\n",
       "      <td>3.452842</td>\n",
       "      <td>200.587788</td>\n",
       "      <td>6.399368</td>\n",
       "      <td>1</td>\n",
       "    </tr>\n",
       "    <tr>\n",
       "      <th>2</th>\n",
       "      <td>13.304117</td>\n",
       "      <td>17.424774</td>\n",
       "      <td>0.545839</td>\n",
       "      <td>5.666628</td>\n",
       "      <td>3.296716</td>\n",
       "      <td>2.162280</td>\n",
       "      <td>1.195097</td>\n",
       "      <td>2.406729</td>\n",
       "      <td>2.211106</td>\n",
       "      <td>30.297854</td>\n",
       "      <td>...</td>\n",
       "      <td>5.873877</td>\n",
       "      <td>0.391712</td>\n",
       "      <td>0.714820</td>\n",
       "      <td>6.555357</td>\n",
       "      <td>25.161346</td>\n",
       "      <td>145.867240</td>\n",
       "      <td>8.909374</td>\n",
       "      <td>264.575821</td>\n",
       "      <td>6.887221</td>\n",
       "      <td>1</td>\n",
       "    </tr>\n",
       "    <tr>\n",
       "      <th>3</th>\n",
       "      <td>13.304118</td>\n",
       "      <td>17.424774</td>\n",
       "      <td>0.545842</td>\n",
       "      <td>5.666628</td>\n",
       "      <td>3.296579</td>\n",
       "      <td>2.162280</td>\n",
       "      <td>1.195097</td>\n",
       "      <td>2.406729</td>\n",
       "      <td>2.211106</td>\n",
       "      <td>30.297854</td>\n",
       "      <td>...</td>\n",
       "      <td>5.845354</td>\n",
       "      <td>0.391628</td>\n",
       "      <td>0.728963</td>\n",
       "      <td>6.293419</td>\n",
       "      <td>31.706102</td>\n",
       "      <td>145.969189</td>\n",
       "      <td>11.311909</td>\n",
       "      <td>255.023211</td>\n",
       "      <td>6.823125</td>\n",
       "      <td>1</td>\n",
       "    </tr>\n",
       "    <tr>\n",
       "      <th>4</th>\n",
       "      <td>13.304116</td>\n",
       "      <td>17.424774</td>\n",
       "      <td>0.545837</td>\n",
       "      <td>5.666628</td>\n",
       "      <td>3.296716</td>\n",
       "      <td>2.162280</td>\n",
       "      <td>1.195097</td>\n",
       "      <td>2.406729</td>\n",
       "      <td>2.211106</td>\n",
       "      <td>36.842611</td>\n",
       "      <td>...</td>\n",
       "      <td>5.873877</td>\n",
       "      <td>0.394348</td>\n",
       "      <td>0.752570</td>\n",
       "      <td>6.555357</td>\n",
       "      <td>31.768228</td>\n",
       "      <td>146.451896</td>\n",
       "      <td>7.129081</td>\n",
       "      <td>264.364066</td>\n",
       "      <td>6.886408</td>\n",
       "      <td>1</td>\n",
       "    </tr>\n",
       "    <tr>\n",
       "      <th>...</th>\n",
       "      <td>...</td>\n",
       "      <td>...</td>\n",
       "      <td>...</td>\n",
       "      <td>...</td>\n",
       "      <td>...</td>\n",
       "      <td>...</td>\n",
       "      <td>...</td>\n",
       "      <td>...</td>\n",
       "      <td>...</td>\n",
       "      <td>...</td>\n",
       "      <td>...</td>\n",
       "      <td>...</td>\n",
       "      <td>...</td>\n",
       "      <td>...</td>\n",
       "      <td>...</td>\n",
       "      <td>...</td>\n",
       "      <td>...</td>\n",
       "      <td>...</td>\n",
       "      <td>...</td>\n",
       "      <td>...</td>\n",
       "      <td>...</td>\n",
       "    </tr>\n",
       "    <tr>\n",
       "      <th>2353</th>\n",
       "      <td>13.304122</td>\n",
       "      <td>17.424767</td>\n",
       "      <td>0.546071</td>\n",
       "      <td>5.883844</td>\n",
       "      <td>4.032418</td>\n",
       "      <td>1.994006</td>\n",
       "      <td>0.291268</td>\n",
       "      <td>2.424025</td>\n",
       "      <td>2.114058</td>\n",
       "      <td>0.000000</td>\n",
       "      <td>...</td>\n",
       "      <td>2.564949</td>\n",
       "      <td>0.891262</td>\n",
       "      <td>1.334922</td>\n",
       "      <td>0.000000</td>\n",
       "      <td>0.000000</td>\n",
       "      <td>157.070869</td>\n",
       "      <td>0.000000</td>\n",
       "      <td>27.188622</td>\n",
       "      <td>3.195376</td>\n",
       "      <td>0</td>\n",
       "    </tr>\n",
       "    <tr>\n",
       "      <th>2354</th>\n",
       "      <td>14.705903</td>\n",
       "      <td>14.565372</td>\n",
       "      <td>0.775868</td>\n",
       "      <td>5.762599</td>\n",
       "      <td>3.267801</td>\n",
       "      <td>2.247387</td>\n",
       "      <td>1.220651</td>\n",
       "      <td>2.485813</td>\n",
       "      <td>2.292618</td>\n",
       "      <td>13.437118</td>\n",
       "      <td>...</td>\n",
       "      <td>5.125079</td>\n",
       "      <td>0.586268</td>\n",
       "      <td>1.090520</td>\n",
       "      <td>6.842683</td>\n",
       "      <td>26.057229</td>\n",
       "      <td>155.863963</td>\n",
       "      <td>3.950551</td>\n",
       "      <td>96.533105</td>\n",
       "      <td>5.212012</td>\n",
       "      <td>0</td>\n",
       "    </tr>\n",
       "    <tr>\n",
       "      <th>2355</th>\n",
       "      <td>15.584269</td>\n",
       "      <td>14.558553</td>\n",
       "      <td>0.996165</td>\n",
       "      <td>5.671568</td>\n",
       "      <td>3.309310</td>\n",
       "      <td>2.167403</td>\n",
       "      <td>1.257100</td>\n",
       "      <td>2.411225</td>\n",
       "      <td>2.216060</td>\n",
       "      <td>17.360722</td>\n",
       "      <td>...</td>\n",
       "      <td>5.541509</td>\n",
       "      <td>0.437346</td>\n",
       "      <td>1.043889</td>\n",
       "      <td>6.861711</td>\n",
       "      <td>5.733667</td>\n",
       "      <td>149.161023</td>\n",
       "      <td>5.171982</td>\n",
       "      <td>94.305802</td>\n",
       "      <td>5.134497</td>\n",
       "      <td>1</td>\n",
       "    </tr>\n",
       "    <tr>\n",
       "      <th>2356</th>\n",
       "      <td>14.702534</td>\n",
       "      <td>14.565388</td>\n",
       "      <td>0.748758</td>\n",
       "      <td>5.756853</td>\n",
       "      <td>3.269475</td>\n",
       "      <td>2.240717</td>\n",
       "      <td>1.419059</td>\n",
       "      <td>2.478957</td>\n",
       "      <td>2.285506</td>\n",
       "      <td>12.934202</td>\n",
       "      <td>...</td>\n",
       "      <td>5.188433</td>\n",
       "      <td>0.624077</td>\n",
       "      <td>1.035548</td>\n",
       "      <td>6.842683</td>\n",
       "      <td>12.340549</td>\n",
       "      <td>158.114543</td>\n",
       "      <td>4.832410</td>\n",
       "      <td>75.087040</td>\n",
       "      <td>4.788936</td>\n",
       "      <td>0</td>\n",
       "    </tr>\n",
       "    <tr>\n",
       "      <th>2357</th>\n",
       "      <td>14.702534</td>\n",
       "      <td>14.565388</td>\n",
       "      <td>0.748758</td>\n",
       "      <td>5.669619</td>\n",
       "      <td>3.269478</td>\n",
       "      <td>2.169232</td>\n",
       "      <td>1.420028</td>\n",
       "      <td>2.415078</td>\n",
       "      <td>2.219121</td>\n",
       "      <td>12.872076</td>\n",
       "      <td>...</td>\n",
       "      <td>5.215954</td>\n",
       "      <td>0.624077</td>\n",
       "      <td>1.071180</td>\n",
       "      <td>6.842683</td>\n",
       "      <td>12.340549</td>\n",
       "      <td>158.498543</td>\n",
       "      <td>4.832410</td>\n",
       "      <td>74.976625</td>\n",
       "      <td>4.787451</td>\n",
       "      <td>0</td>\n",
       "    </tr>\n",
       "  </tbody>\n",
       "</table>\n",
       "<p>2358 rows × 101 columns</p>\n",
       "</div>"
      ],
      "text/plain": [
       "       BCUTv-1l   BCUTi-1h  BCUTp-1l  BCUTZ-1l  BCUTd-1h  BCUTare-1l  \\\n",
       "0     14.701776  14.557741  0.744080  5.748825  3.218349    2.238180   \n",
       "1     14.700550  13.644287  0.741446  5.679853  3.258335    2.178923   \n",
       "2     13.304117  17.424774  0.545839  5.666628  3.296716    2.162280   \n",
       "3     13.304118  17.424774  0.545842  5.666628  3.296579    2.162280   \n",
       "4     13.304116  17.424774  0.545837  5.666628  3.296716    2.162280   \n",
       "...         ...        ...       ...       ...       ...         ...   \n",
       "2353  13.304122  17.424767  0.546071  5.883844  4.032418    1.994006   \n",
       "2354  14.705903  14.565372  0.775868  5.762599  3.267801    2.247387   \n",
       "2355  15.584269  14.558553  0.996165  5.671568  3.309310    2.167403   \n",
       "2356  14.702534  14.565388  0.748758  5.756853  3.269475    2.240717   \n",
       "2357  14.702534  14.565388  0.748758  5.669619  3.269478    2.169232   \n",
       "\n",
       "      BCUTs-1l  BCUTse-1l  BCUTpe-1l  PEOE_VSA9  ...     piPC4  \\\n",
       "0     1.240005   2.479451   2.284833  12.710848  ...  4.754667   \n",
       "1     1.143745   2.424758   2.228722  39.958147  ...  5.547129   \n",
       "2     1.195097   2.406729   2.211106  30.297854  ...  5.873877   \n",
       "3     1.195097   2.406729   2.211106  30.297854  ...  5.845354   \n",
       "4     1.195097   2.406729   2.211106  36.842611  ...  5.873877   \n",
       "...        ...        ...        ...        ...  ...       ...   \n",
       "2353  0.291268   2.424025   2.114058   0.000000  ...  2.564949   \n",
       "2354  1.220651   2.485813   2.292618  13.437118  ...  5.125079   \n",
       "2355  1.257100   2.411225   2.216060  17.360722  ...  5.541509   \n",
       "2356  1.419059   2.478957   2.285506  12.934202  ...  5.188433   \n",
       "2357  1.420028   2.415078   2.219121  12.872076  ...  5.215954   \n",
       "\n",
       "      ETA_dEpsilon_D   GATS1se     SRW09   SMR_VSA6      AATS1i    MDEC-22  \\\n",
       "0           0.492929  0.839738  6.580639   6.606882  151.382734   2.249577   \n",
       "1           0.364441  0.878124  7.412764  34.729217  144.347348   3.452842   \n",
       "2           0.391712  0.714820  6.555357  25.161346  145.867240   8.909374   \n",
       "3           0.391628  0.728963  6.293419  31.706102  145.969189  11.311909   \n",
       "4           0.394348  0.752570  6.555357  31.768228  146.451896   7.129081   \n",
       "...              ...       ...       ...        ...         ...        ...   \n",
       "2353        0.891262  1.334922  0.000000   0.000000  157.070869   0.000000   \n",
       "2354        0.586268  1.090520  6.842683  26.057229  155.863963   3.950551   \n",
       "2355        0.437346  1.043889  6.861711   5.733667  149.161023   5.171982   \n",
       "2356        0.624077  1.035548  6.842683  12.340549  158.114543   4.832410   \n",
       "2357        0.624077  1.071180  6.842683  12.340549  158.498543   4.832410   \n",
       "\n",
       "         VR1_DzZ  VR3_Dzpe  target  \n",
       "0      74.441211  4.780763       1  \n",
       "1     200.587788  6.399368       1  \n",
       "2     264.575821  6.887221       1  \n",
       "3     255.023211  6.823125       1  \n",
       "4     264.364066  6.886408       1  \n",
       "...          ...       ...     ...  \n",
       "2353   27.188622  3.195376       0  \n",
       "2354   96.533105  5.212012       0  \n",
       "2355   94.305802  5.134497       1  \n",
       "2356   75.087040  4.788936       0  \n",
       "2357   74.976625  4.787451       0  \n",
       "\n",
       "[2358 rows x 101 columns]"
      ]
     },
     "execution_count": 3,
     "metadata": {},
     "output_type": "execute_result"
    }
   ],
   "source": [
    "# First 5 rows of our data\n",
    "df"
   ]
  },
  {
   "cell_type": "code",
   "execution_count": 4,
   "metadata": {
    "_uuid": "00af1961381609399dd80ca7c6a950277c120357"
   },
   "outputs": [
    {
     "data": {
      "text/plain": [
       "1    1702\n",
       "0     656\n",
       "Name: target, dtype: int64"
      ]
     },
     "execution_count": 4,
     "metadata": {},
     "output_type": "execute_result"
    }
   ],
   "source": [
    "df.target.value_counts()"
   ]
  },
  {
   "cell_type": "code",
   "execution_count": 5,
   "metadata": {
    "_uuid": "f0c639a82d794e41978199f7fa4405a01a7b805e"
   },
   "outputs": [
    {
     "data": {
      "image/png": "[encoded data removed]",
      "text/plain": [
       "<Figure size 432x288 with 1 Axes>"
      ]
     },
     "metadata": {
      "needs_background": "light"
     },
     "output_type": "display_data"
    }
   ],
   "source": [
    "sns.countplot(x=\"target\", data=df, palette=\"bwr\")\n",
    "plt.show()"
   ]
  },
  {
   "cell_type": "code",
   "execution_count": 6,
   "metadata": {
    "_uuid": "dd20ffc31d87de07a6f2941b0500cda8c0b1b8e6"
   },
   "outputs": [
    {
     "name": "stdout",
     "output_type": "stream",
     "text": [
      "Percentage of values with False: 27.82%\n",
      "Percentage of values with True: 72.18%\n"
     ]
    }
   ],
   "source": [
    "countNoDisease = len(df[df.target == False])\n",
    "countHaveDisease = len(df[df.target == True])\n",
    "print(\"Percentage of values with False: {:.2f}%\".format((countNoDisease / (len(df.target))*100)))\n",
    "print(\"Percentage of values with True: {:.2f}%\".format((countHaveDisease / (len(df.target))*100)))"
   ]
  },
  {
   "cell_type": "code",
   "execution_count": 7,
   "metadata": {
    "_uuid": "2e4577118ef837e24c955ea81562d8fb51a22b1c"
   },
   "outputs": [],
   "source": [
    "y = df.target.values\n",
    "x_data = df.drop(['target'], axis = 1)"
   ]
  },
  {
   "cell_type": "code",
   "execution_count": 8,
   "metadata": {
    "_uuid": "c60916b235e1962a53f95593b8d020c0acc079ed"
   },
   "outputs": [],
   "source": [
    "# Normalize\n",
    "x = (x_data - np.min(x_data)) / (np.max(x_data) - np.min(x_data)).values"
   ]
  },
  {
   "cell_type": "code",
   "execution_count": 9,
   "metadata": {
    "_uuid": "3090d1ba1e8776706d23a1175db6d1451908a954"
   },
   "outputs": [],
   "source": [
    "x_train, x_test, y_train, y_test = train_test_split(x,y,test_size = 0.2,random_state=0)"
   ]
  },
  {
   "cell_type": "code",
   "execution_count": 10,
   "metadata": {},
   "outputs": [],
   "source": [
    "#x_train, x_val, y_train, y_val = train_test_split(x_train,y_train,test_size = 0.10,random_state=0)"
   ]
  },
  {
   "cell_type": "code",
   "execution_count": 11,
   "metadata": {
    "_uuid": "880e2db253fd1125bfa065ba0ae8840b68687e42"
   },
   "outputs": [],
   "source": [
    "#transpose matrices\n",
    "x_train = x_train.T\n",
    "y_train = y_train.T\n",
    "x_test = x_test.T\n",
    "y_test = y_test.T\n",
    "#x_val = x_val.T\n",
    "#y_val = y_val.T"
   ]
  },
  {
   "cell_type": "code",
   "execution_count": 12,
   "metadata": {
    "_uuid": "5592396ddebe9346767a2a34dd20abf300e5c730",
    "scrolled": true
   },
   "outputs": [
    {
     "name": "stdout",
     "output_type": "stream",
     "text": [
      "81.77966101694916\n",
      "80.11664899257688\n"
     ]
    },
    {
     "name": "stderr",
     "output_type": "stream",
     "text": [
      "C:\\ProgramData\\Anaconda3\\lib\\site-packages\\sklearn\\linear_model\\_logistic.py:762: ConvergenceWarning: lbfgs failed to converge (status=1):\n",
      "STOP: TOTAL NO. of ITERATIONS REACHED LIMIT.\n",
      "\n",
      "Increase the number of iterations (max_iter) or scale the data as shown in:\n",
      "    https://scikit-learn.org/stable/modules/preprocessing.html\n",
      "Please also refer to the documentation for alternative solver options:\n",
      "    https://scikit-learn.org/stable/modules/linear_model.html#logistic-regression\n",
      "  n_iter_i = _check_optimize_result(\n"
     ]
    }
   ],
   "source": [
    "accuracies = {}\n",
    "\n",
    "lr = LogisticRegression()\n",
    "lr.fit(x_train.T,y_train.T)\n",
    "acc = lr.score(x_test.T,y_test.T)*100\n",
    "predictions = lr.predict(x_test.T)\n",
    "predictions_tr = lr.predict(x_train.T)\n",
    "acc = lr.score(x_test.T,y_test.T)*100\n",
    "acc_tr =lr.score(x_train.T,y_train.T)*100\n",
    "print(acc)\n",
    "print(acc_tr)\n",
    "##predictions_val = lr.predict(x_val.T)\n",
    "#acc_val =lr.score(x_val.T,y_val.T)*100\n",
    "#print(acc_val)"
   ]
  },
  {
   "cell_type": "code",
   "execution_count": 13,
   "metadata": {},
   "outputs": [
    {
     "name": "stdout",
     "output_type": "stream",
     "text": [
      "[[ 56  60]\n",
      " [ 26 330]]\n",
      "              precision    recall  f1-score   support\n",
      "\n",
      "           0       0.68      0.48      0.57       116\n",
      "           1       0.85      0.93      0.88       356\n",
      "\n",
      "    accuracy                           0.82       472\n",
      "   macro avg       0.76      0.70      0.73       472\n",
      "weighted avg       0.81      0.82      0.81       472\n",
      "\n"
     ]
    }
   ],
   "source": [
    "cf =(confusion_matrix(y_test, predictions))\n",
    "#cf_val =(confusion_matrix(y_val, predictions_val))\n",
    "print(confusion_matrix(y_test, predictions))\n",
    "print(classification_report(y_test, predictions))\n",
    "#print(confusion_matrix(y_train, predictions_tr))\n",
    "#print(classification_report(y_train, predictions_tr))\n",
    "#print(confusion_matrix(y_val, predictions_val))\n",
    "#print(classification_report(y_val, predictions_val))"
   ]
  },
  {
   "cell_type": "code",
   "execution_count": 14,
   "metadata": {},
   "outputs": [
    {
     "name": "stderr",
     "output_type": "stream",
     "text": [
      "C:\\ProgramData\\Anaconda3\\lib\\site-packages\\sklearn\\linear_model\\_logistic.py:762: ConvergenceWarning: lbfgs failed to converge (status=1):\n",
      "STOP: TOTAL NO. of ITERATIONS REACHED LIMIT.\n",
      "\n",
      "Increase the number of iterations (max_iter) or scale the data as shown in:\n",
      "    https://scikit-learn.org/stable/modules/preprocessing.html\n",
      "Please also refer to the documentation for alternative solver options:\n",
      "    https://scikit-learn.org/stable/modules/linear_model.html#logistic-regression\n",
      "  n_iter_i = _check_optimize_result(\n",
      "C:\\ProgramData\\Anaconda3\\lib\\site-packages\\sklearn\\linear_model\\_logistic.py:762: ConvergenceWarning: lbfgs failed to converge (status=1):\n",
      "STOP: TOTAL NO. of ITERATIONS REACHED LIMIT.\n",
      "\n",
      "Increase the number of iterations (max_iter) or scale the data as shown in:\n",
      "    https://scikit-learn.org/stable/modules/preprocessing.html\n",
      "Please also refer to the documentation for alternative solver options:\n",
      "    https://scikit-learn.org/stable/modules/linear_model.html#logistic-regression\n",
      "  n_iter_i = _check_optimize_result(\n",
      "C:\\ProgramData\\Anaconda3\\lib\\site-packages\\sklearn\\linear_model\\_logistic.py:762: ConvergenceWarning: lbfgs failed to converge (status=1):\n",
      "STOP: TOTAL NO. of ITERATIONS REACHED LIMIT.\n",
      "\n",
      "Increase the number of iterations (max_iter) or scale the data as shown in:\n",
      "    https://scikit-learn.org/stable/modules/preprocessing.html\n",
      "Please also refer to the documentation for alternative solver options:\n",
      "    https://scikit-learn.org/stable/modules/linear_model.html#logistic-regression\n",
      "  n_iter_i = _check_optimize_result(\n",
      "C:\\ProgramData\\Anaconda3\\lib\\site-packages\\sklearn\\linear_model\\_logistic.py:762: ConvergenceWarning: lbfgs failed to converge (status=1):\n",
      "STOP: TOTAL NO. of ITERATIONS REACHED LIMIT.\n",
      "\n",
      "Increase the number of iterations (max_iter) or scale the data as shown in:\n",
      "    https://scikit-learn.org/stable/modules/preprocessing.html\n",
      "Please also refer to the documentation for alternative solver options:\n",
      "    https://scikit-learn.org/stable/modules/linear_model.html#logistic-regression\n",
      "  n_iter_i = _check_optimize_result(\n",
      "C:\\ProgramData\\Anaconda3\\lib\\site-packages\\sklearn\\linear_model\\_logistic.py:762: ConvergenceWarning: lbfgs failed to converge (status=1):\n",
      "STOP: TOTAL NO. of ITERATIONS REACHED LIMIT.\n",
      "\n",
      "Increase the number of iterations (max_iter) or scale the data as shown in:\n",
      "    https://scikit-learn.org/stable/modules/preprocessing.html\n",
      "Please also refer to the documentation for alternative solver options:\n",
      "    https://scikit-learn.org/stable/modules/linear_model.html#logistic-regression\n",
      "  n_iter_i = _check_optimize_result(\n",
      "C:\\ProgramData\\Anaconda3\\lib\\site-packages\\sklearn\\linear_model\\_logistic.py:762: ConvergenceWarning: lbfgs failed to converge (status=1):\n",
      "STOP: TOTAL NO. of ITERATIONS REACHED LIMIT.\n",
      "\n",
      "Increase the number of iterations (max_iter) or scale the data as shown in:\n",
      "    https://scikit-learn.org/stable/modules/preprocessing.html\n",
      "Please also refer to the documentation for alternative solver options:\n",
      "    https://scikit-learn.org/stable/modules/linear_model.html#logistic-regression\n",
      "  n_iter_i = _check_optimize_result(\n",
      "C:\\ProgramData\\Anaconda3\\lib\\site-packages\\sklearn\\linear_model\\_logistic.py:762: ConvergenceWarning: lbfgs failed to converge (status=1):\n",
      "STOP: TOTAL NO. of ITERATIONS REACHED LIMIT.\n",
      "\n",
      "Increase the number of iterations (max_iter) or scale the data as shown in:\n",
      "    https://scikit-learn.org/stable/modules/preprocessing.html\n",
      "Please also refer to the documentation for alternative solver options:\n",
      "    https://scikit-learn.org/stable/modules/linear_model.html#logistic-regression\n",
      "  n_iter_i = _check_optimize_result(\n"
     ]
    },
    {
     "name": "stdout",
     "output_type": "stream",
     "text": [
      "[0.8042328  0.79365079 0.80952381 0.76190476 0.80952381 0.7989418\n",
      " 0.78723404 0.77659574 0.79255319 0.80851064]\n",
      "0.7942671394799055\n"
     ]
    },
    {
     "name": "stderr",
     "output_type": "stream",
     "text": [
      "C:\\ProgramData\\Anaconda3\\lib\\site-packages\\sklearn\\linear_model\\_logistic.py:762: ConvergenceWarning: lbfgs failed to converge (status=1):\n",
      "STOP: TOTAL NO. of ITERATIONS REACHED LIMIT.\n",
      "\n",
      "Increase the number of iterations (max_iter) or scale the data as shown in:\n",
      "    https://scikit-learn.org/stable/modules/preprocessing.html\n",
      "Please also refer to the documentation for alternative solver options:\n",
      "    https://scikit-learn.org/stable/modules/linear_model.html#logistic-regression\n",
      "  n_iter_i = _check_optimize_result(\n",
      "C:\\ProgramData\\Anaconda3\\lib\\site-packages\\sklearn\\linear_model\\_logistic.py:762: ConvergenceWarning: lbfgs failed to converge (status=1):\n",
      "STOP: TOTAL NO. of ITERATIONS REACHED LIMIT.\n",
      "\n",
      "Increase the number of iterations (max_iter) or scale the data as shown in:\n",
      "    https://scikit-learn.org/stable/modules/preprocessing.html\n",
      "Please also refer to the documentation for alternative solver options:\n",
      "    https://scikit-learn.org/stable/modules/linear_model.html#logistic-regression\n",
      "  n_iter_i = _check_optimize_result(\n",
      "C:\\ProgramData\\Anaconda3\\lib\\site-packages\\sklearn\\linear_model\\_logistic.py:762: ConvergenceWarning: lbfgs failed to converge (status=1):\n",
      "STOP: TOTAL NO. of ITERATIONS REACHED LIMIT.\n",
      "\n",
      "Increase the number of iterations (max_iter) or scale the data as shown in:\n",
      "    https://scikit-learn.org/stable/modules/preprocessing.html\n",
      "Please also refer to the documentation for alternative solver options:\n",
      "    https://scikit-learn.org/stable/modules/linear_model.html#logistic-regression\n",
      "  n_iter_i = _check_optimize_result(\n"
     ]
    }
   ],
   "source": [
    "from sklearn.model_selection import cross_val_score\n",
    "accuracies = cross_val_score(estimator=lr, X=x_train.T, y=y_train.T, cv=10)\n",
    "print(accuracies)\n",
    "print(accuracies.mean())"
   ]
  },
  {
   "cell_type": "code",
   "execution_count": 15,
   "metadata": {},
   "outputs": [
    {
     "data": {
      "text/plain": [
       "0.465593743100631"
      ]
     },
     "execution_count": 15,
     "metadata": {},
     "output_type": "execute_result"
    }
   ],
   "source": [
    "from sklearn.metrics import matthews_corrcoef\n",
    "matthews_corrcoef(y_test, predictions)"
   ]
  },
  {
   "cell_type": "code",
   "execution_count": 16,
   "metadata": {},
   "outputs": [],
   "source": [
    "#from sklearn.metrics import matthews_corrcoef\n",
    "#matthews_corrcoef(y_val, predictions_val)"
   ]
  },
  {
   "cell_type": "code",
   "execution_count": 17,
   "metadata": {},
   "outputs": [
    {
     "data": {
      "text/plain": [
       "<matplotlib.axes._subplots.AxesSubplot at 0x177351e0b80>"
      ]
     },
     "execution_count": 17,
     "metadata": {},
     "output_type": "execute_result"
    },
    {
     "data": {
      "image/png": "[encoded data removed]",
      "text/plain": [
       "<Figure size 432x288 with 1 Axes>"
      ]
     },
     "metadata": {
      "needs_background": "light"
     },
     "output_type": "display_data"
    }
   ],
   "source": [
    "cf_plt =sns.heatmap(cf,annot=True,cmap=\"Blues\",fmt=\"d\",cbar=False, annot_kws={\"size\": 24})\n",
    "cf_plt.set(xlabel = \"True Value\", ylabel =\"Actual Value\")\n",
    "cf_plt"
   ]
  },
  {
   "cell_type": "code",
   "execution_count": 18,
   "metadata": {},
   "outputs": [],
   "source": [
    "#cf_plt =sns.heatmap(cf_val,annot=True,cmap=\"Blues\",fmt=\"d\",cbar=False, annot_kws={\"size\": 24})\n",
    "#cf_plt.set(xlabel = \"True Value\", ylabel =\"Actual Value\")\n",
    "#cf_plt"
   ]
  },
  {
   "cell_type": "code",
   "execution_count": 19,
   "metadata": {
    "scrolled": true
   },
   "outputs": [
    {
     "name": "stdout",
     "output_type": "stream",
     "text": [
      "AUC = 0.705\n",
      "R2 = 0.017\n",
      "MSE = 0.182\n",
      "MBE = 0.072\n",
      "RMSE = 0.427\n",
      "Variance = 0.144\n",
      "Bias = 0.068\n",
      "Kappa = 0.455\n"
     ]
    }
   ],
   "source": [
    "#parameters\n",
    "r_auc_score = roc_auc_score(y_test, predictions)\n",
    "print('AUC = %0.3f' % r_auc_score)\n",
    "rsquare = r2_score(y_test, predictions)\n",
    "print('R2 = %0.3f' % rsquare)\n",
    "#mae = mean_absolute_error(y_test, predictions)\n",
    "#print('MAE = %0.3f)' % mae)\n",
    "mse = mean_squared_error(y_test, predictions)\n",
    "print('MSE = %0.3f' % mse)\n",
    "mbe = np.mean(predictions - y_test)\n",
    "print('MBE = %0.3f'% mbe)\n",
    "rmse = mse** (1/2)\n",
    "print('RMSE = %0.3f' % rmse)\n",
    "variance = np.var(predictions)\n",
    "print('Variance = %0.3f'% variance)\n",
    "sse = np.mean((np.mean(predictions) - y)** 2)\n",
    "bias = sse - variance\n",
    "print('Bias = %0.3f'% bias)\n",
    "kappa = cohen_kappa_score(y_test, predictions)\n",
    "print('Kappa = %0.3f'% kappa)"
   ]
  },
  {
   "cell_type": "code",
   "execution_count": 20,
   "metadata": {},
   "outputs": [
    {
     "name": "stdout",
     "output_type": "stream",
     "text": [
      "[0.07303371 0.51724138]\n",
      "[0.51724138 0.07303371]\n",
      "[0.31707317 0.15384615]\n"
     ]
    }
   ],
   "source": [
    "#fall out\n",
    "FP = cf.sum(axis=0) - np.diag(cf) \n",
    "FN = cf.sum(axis=1) - np.diag(cf)\n",
    "TP = np.diag(cf)\n",
    "TN = cf.sum() - (FP + FN + TP)\n",
    "FP = FP.astype(float)\n",
    "FN = FN.astype(float)\n",
    "TP = TP.astype(float)\n",
    "TN = TN.astype(float)\n",
    "# Sensitivity, hit rate, recall, or true positive rate\n",
    "#TPR = TP/(TP+FN)\n",
    "# Specificity or true negative rate\n",
    "#TNR = TN/(TN+FP) \n",
    "# Precision or positive predictive value\n",
    "#PPV = TP/(TP+FP)\n",
    "# Negative predictive value\n",
    "#NPV = TN/(TN+FN)\n",
    "# Fall out or false positive rate\n",
    "FPR = FP/(FP+TN)\n",
    "# False negative rate\n",
    "FNR = FN/(TP+FN)\n",
    "# False discovery rate\n",
    "FDR = FP/(TP+FP)\n",
    "# Overall accuracy for each class\n",
    "#ACC = (TP+TN)/(TP+FP+FN+TN)\n",
    "print(FPR)\n",
    "print(FNR)\n",
    "print(FDR)"
   ]
  },
  {
   "cell_type": "code",
   "execution_count": 21,
   "metadata": {},
   "outputs": [
    {
     "name": "stdout",
     "output_type": "stream",
     "text": [
      "complete\n"
     ]
    }
   ],
   "source": [
    "print(\"complete\")"
   ]
  }
 ],
 "metadata": {
  "kernelspec": {
   "display_name": "Python 3",
   "language": "python",
   "name": "python3"
  },
  "language_info": {
   "codemirror_mode": {
    "name": "ipython",
    "version": 3
   },
   "file_extension": ".py",
   "mimetype": "text/x-python",
   "name": "python",
   "nbconvert_exporter": "python",
   "pygments_lexer": "ipython3",
   "version": "3.8.3"
  },
  "toc": {
   "base_numbering": 1,
   "nav_menu": {},
   "number_sections": true,
   "sideBar": true,
   "skip_h1_title": false,
   "title_cell": "Table of Contents",
   "title_sidebar": "Contents",
   "toc_cell": false,
   "toc_position": {},
   "toc_section_display": true,
   "toc_window_display": false
  }
 },
 "nbformat": 4,
 "nbformat_minor": 1
}
