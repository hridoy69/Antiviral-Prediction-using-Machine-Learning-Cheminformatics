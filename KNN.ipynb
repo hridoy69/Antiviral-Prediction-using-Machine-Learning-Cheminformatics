{
 "cells": [
  {
   "cell_type": "code",
   "execution_count": 1,
   "metadata": {
    "_cell_guid": "b1076dfc-b9ad-4769-8c92-a6c4dae69d19",
    "_uuid": "8f2839f25d086af736a60e9eeb907d3b93b6e0e5"
   },
   "outputs": [],
   "source": [
    "import numpy as np\n",
    "import pandas as pd\n",
    "from sklearn.model_selection import train_test_split\n",
    "from sklearn.preprocessing import StandardScaler\n",
    "from sklearn.metrics import classification_report, confusion_matrix, mean_absolute_error, mean_squared_error, r2_score, roc_auc_score\n",
    "import pickle\n",
    "import matplotlib.pyplot as plt\n",
    "import seaborn as sns"
   ]
  },
  {
   "cell_type": "code",
   "execution_count": 2,
   "metadata": {
    "_uuid": "8d0ffd4e0549f6f2eb24c7cc258256f2fb63ec48"
   },
   "outputs": [],
   "source": [
    "# We are reading our data\n",
    "df = pd.read_csv(\"C:/Users/NEIST/Desktop/Pre/main_datasets/correlation_dataset_100.csv\")"
   ]
  },
  {
   "cell_type": "code",
   "execution_count": 3,
   "metadata": {
    "_uuid": "4dee2636361981b0f92a8a585d49f581283d6222"
   },
   "outputs": [
    {
     "data": {
      "text/html": [
       "<div>\n",
       "<style scoped>\n",
       "    .dataframe tbody tr th:only-of-type {\n",
       "        vertical-align: middle;\n",
       "    }\n",
       "\n",
       "    .dataframe tbody tr th {\n",
       "        vertical-align: top;\n",
       "    }\n",
       "\n",
       "    .dataframe thead th {\n",
       "        text-align: right;\n",
       "    }\n",
       "</style>\n",
       "<table border=\"1\" class=\"dataframe\">\n",
       "  <thead>\n",
       "    <tr style=\"text-align: right;\">\n",
       "      <th></th>\n",
       "      <th>ABC</th>\n",
       "      <th>ABCGG</th>\n",
       "      <th>SpAbs_A</th>\n",
       "      <th>SpAD_A</th>\n",
       "      <th>LogEE_A</th>\n",
       "      <th>VE1_A</th>\n",
       "      <th>VE3_A</th>\n",
       "      <th>VR3_A</th>\n",
       "      <th>nAromAtom</th>\n",
       "      <th>nAromBond</th>\n",
       "      <th>...</th>\n",
       "      <th>ATS2pe</th>\n",
       "      <th>ATS3pe</th>\n",
       "      <th>ATS4pe</th>\n",
       "      <th>ATS5pe</th>\n",
       "      <th>ATS6pe</th>\n",
       "      <th>ATS7pe</th>\n",
       "      <th>ATS8pe</th>\n",
       "      <th>ATS0p</th>\n",
       "      <th>ATS1p</th>\n",
       "      <th>target</th>\n",
       "    </tr>\n",
       "  </thead>\n",
       "  <tbody>\n",
       "    <tr>\n",
       "      <th>0</th>\n",
       "      <td>12.227664</td>\n",
       "      <td>11.114914</td>\n",
       "      <td>20.147227</td>\n",
       "      <td>20.147227</td>\n",
       "      <td>3.699345</td>\n",
       "      <td>3.673300</td>\n",
       "      <td>1.771094</td>\n",
       "      <td>4.818309</td>\n",
       "      <td>6</td>\n",
       "      <td>6</td>\n",
       "      <td>...</td>\n",
       "      <td>374.6035</td>\n",
       "      <td>476.1766</td>\n",
       "      <td>468.3444</td>\n",
       "      <td>380.1786</td>\n",
       "      <td>338.2281</td>\n",
       "      <td>261.438200</td>\n",
       "      <td>173.804000</td>\n",
       "      <td>39.106397</td>\n",
       "      <td>50.034772</td>\n",
       "      <td>1</td>\n",
       "    </tr>\n",
       "    <tr>\n",
       "      <th>1</th>\n",
       "      <td>23.815569</td>\n",
       "      <td>19.774822</td>\n",
       "      <td>39.913068</td>\n",
       "      <td>39.913068</td>\n",
       "      <td>4.364259</td>\n",
       "      <td>4.641129</td>\n",
       "      <td>2.633570</td>\n",
       "      <td>6.823750</td>\n",
       "      <td>12</td>\n",
       "      <td>12</td>\n",
       "      <td>...</td>\n",
       "      <td>674.0802</td>\n",
       "      <td>801.0117</td>\n",
       "      <td>976.0827</td>\n",
       "      <td>1062.6022</td>\n",
       "      <td>1045.4281</td>\n",
       "      <td>1031.147200</td>\n",
       "      <td>849.846700</td>\n",
       "      <td>76.282916</td>\n",
       "      <td>98.447958</td>\n",
       "      <td>0</td>\n",
       "    </tr>\n",
       "    <tr>\n",
       "      <th>2</th>\n",
       "      <td>28.674108</td>\n",
       "      <td>23.571954</td>\n",
       "      <td>46.615926</td>\n",
       "      <td>46.615926</td>\n",
       "      <td>4.538757</td>\n",
       "      <td>4.829968</td>\n",
       "      <td>2.883173</td>\n",
       "      <td>7.456212</td>\n",
       "      <td>16</td>\n",
       "      <td>17</td>\n",
       "      <td>...</td>\n",
       "      <td>778.2712</td>\n",
       "      <td>1033.6904</td>\n",
       "      <td>1193.5495</td>\n",
       "      <td>1226.4257</td>\n",
       "      <td>1297.9612</td>\n",
       "      <td>1265.847600</td>\n",
       "      <td>1199.969600</td>\n",
       "      <td>99.091334</td>\n",
       "      <td>124.712358</td>\n",
       "      <td>1</td>\n",
       "    </tr>\n",
       "    <tr>\n",
       "      <th>3</th>\n",
       "      <td>27.898052</td>\n",
       "      <td>22.843849</td>\n",
       "      <td>45.596425</td>\n",
       "      <td>45.596425</td>\n",
       "      <td>4.511609</td>\n",
       "      <td>4.747241</td>\n",
       "      <td>2.838498</td>\n",
       "      <td>7.483839</td>\n",
       "      <td>16</td>\n",
       "      <td>17</td>\n",
       "      <td>...</td>\n",
       "      <td>788.4776</td>\n",
       "      <td>1045.2584</td>\n",
       "      <td>1206.8935</td>\n",
       "      <td>1235.5457</td>\n",
       "      <td>1305.8908</td>\n",
       "      <td>1276.340400</td>\n",
       "      <td>1204.865600</td>\n",
       "      <td>99.337356</td>\n",
       "      <td>125.600107</td>\n",
       "      <td>1</td>\n",
       "    </tr>\n",
       "    <tr>\n",
       "      <th>4</th>\n",
       "      <td>28.674108</td>\n",
       "      <td>23.571954</td>\n",
       "      <td>46.615926</td>\n",
       "      <td>46.615926</td>\n",
       "      <td>4.538757</td>\n",
       "      <td>4.829968</td>\n",
       "      <td>2.883173</td>\n",
       "      <td>7.456212</td>\n",
       "      <td>16</td>\n",
       "      <td>17</td>\n",
       "      <td>...</td>\n",
       "      <td>762.9439</td>\n",
       "      <td>980.7839</td>\n",
       "      <td>1167.5085</td>\n",
       "      <td>1212.4407</td>\n",
       "      <td>1263.5126</td>\n",
       "      <td>1239.231300</td>\n",
       "      <td>1156.416600</td>\n",
       "      <td>96.056413</td>\n",
       "      <td>119.586149</td>\n",
       "      <td>1</td>\n",
       "    </tr>\n",
       "    <tr>\n",
       "      <th>...</th>\n",
       "      <td>...</td>\n",
       "      <td>...</td>\n",
       "      <td>...</td>\n",
       "      <td>...</td>\n",
       "      <td>...</td>\n",
       "      <td>...</td>\n",
       "      <td>...</td>\n",
       "      <td>...</td>\n",
       "      <td>...</td>\n",
       "      <td>...</td>\n",
       "      <td>...</td>\n",
       "      <td>...</td>\n",
       "      <td>...</td>\n",
       "      <td>...</td>\n",
       "      <td>...</td>\n",
       "      <td>...</td>\n",
       "      <td>...</td>\n",
       "      <td>...</td>\n",
       "      <td>...</td>\n",
       "      <td>...</td>\n",
       "      <td>...</td>\n",
       "    </tr>\n",
       "    <tr>\n",
       "      <th>2353</th>\n",
       "      <td>6.359730</td>\n",
       "      <td>6.827704</td>\n",
       "      <td>9.020980</td>\n",
       "      <td>9.020980</td>\n",
       "      <td>3.049706</td>\n",
       "      <td>2.740544</td>\n",
       "      <td>0.902796</td>\n",
       "      <td>3.039410</td>\n",
       "      <td>0</td>\n",
       "      <td>0</td>\n",
       "      <td>...</td>\n",
       "      <td>150.0741</td>\n",
       "      <td>202.3492</td>\n",
       "      <td>132.6676</td>\n",
       "      <td>52.9760</td>\n",
       "      <td>9.6800</td>\n",
       "      <td>1132.339767</td>\n",
       "      <td>1113.781874</td>\n",
       "      <td>24.059421</td>\n",
       "      <td>23.911498</td>\n",
       "      <td>0</td>\n",
       "    </tr>\n",
       "    <tr>\n",
       "      <th>2354</th>\n",
       "      <td>14.130205</td>\n",
       "      <td>12.708546</td>\n",
       "      <td>24.177566</td>\n",
       "      <td>24.177566</td>\n",
       "      <td>3.856159</td>\n",
       "      <td>3.569641</td>\n",
       "      <td>1.914319</td>\n",
       "      <td>5.990343</td>\n",
       "      <td>9</td>\n",
       "      <td>10</td>\n",
       "      <td>...</td>\n",
       "      <td>421.3416</td>\n",
       "      <td>493.3588</td>\n",
       "      <td>561.3676</td>\n",
       "      <td>514.0288</td>\n",
       "      <td>441.0705</td>\n",
       "      <td>414.020900</td>\n",
       "      <td>291.288500</td>\n",
       "      <td>46.215931</td>\n",
       "      <td>57.473317</td>\n",
       "      <td>0</td>\n",
       "    </tr>\n",
       "    <tr>\n",
       "      <th>2355</th>\n",
       "      <td>14.268104</td>\n",
       "      <td>12.190940</td>\n",
       "      <td>23.133418</td>\n",
       "      <td>23.133418</td>\n",
       "      <td>3.844436</td>\n",
       "      <td>3.749222</td>\n",
       "      <td>1.909335</td>\n",
       "      <td>5.343208</td>\n",
       "      <td>13</td>\n",
       "      <td>15</td>\n",
       "      <td>...</td>\n",
       "      <td>388.5782</td>\n",
       "      <td>479.7767</td>\n",
       "      <td>525.7972</td>\n",
       "      <td>438.4305</td>\n",
       "      <td>450.0130</td>\n",
       "      <td>348.002500</td>\n",
       "      <td>289.281000</td>\n",
       "      <td>50.998406</td>\n",
       "      <td>65.219365</td>\n",
       "      <td>0</td>\n",
       "    </tr>\n",
       "    <tr>\n",
       "      <th>2356</th>\n",
       "      <td>12.118275</td>\n",
       "      <td>10.788639</td>\n",
       "      <td>20.038433</td>\n",
       "      <td>20.038433</td>\n",
       "      <td>3.694168</td>\n",
       "      <td>3.414212</td>\n",
       "      <td>1.697950</td>\n",
       "      <td>5.573446</td>\n",
       "      <td>9</td>\n",
       "      <td>10</td>\n",
       "      <td>...</td>\n",
       "      <td>308.5821</td>\n",
       "      <td>350.8938</td>\n",
       "      <td>351.8510</td>\n",
       "      <td>308.4577</td>\n",
       "      <td>251.1375</td>\n",
       "      <td>216.282200</td>\n",
       "      <td>147.178000</td>\n",
       "      <td>37.327250</td>\n",
       "      <td>45.523175</td>\n",
       "      <td>0</td>\n",
       "    </tr>\n",
       "    <tr>\n",
       "      <th>2357</th>\n",
       "      <td>12.118275</td>\n",
       "      <td>10.788639</td>\n",
       "      <td>20.038433</td>\n",
       "      <td>20.038433</td>\n",
       "      <td>3.694168</td>\n",
       "      <td>3.414212</td>\n",
       "      <td>1.697950</td>\n",
       "      <td>5.573446</td>\n",
       "      <td>9</td>\n",
       "      <td>10</td>\n",
       "      <td>...</td>\n",
       "      <td>286.1421</td>\n",
       "      <td>301.2178</td>\n",
       "      <td>302.1750</td>\n",
       "      <td>268.5717</td>\n",
       "      <td>211.2515</td>\n",
       "      <td>179.278200</td>\n",
       "      <td>116.554000</td>\n",
       "      <td>36.438024</td>\n",
       "      <td>43.296086</td>\n",
       "      <td>0</td>\n",
       "    </tr>\n",
       "  </tbody>\n",
       "</table>\n",
       "<p>2358 rows × 101 columns</p>\n",
       "</div>"
      ],
      "text/plain": [
       "            ABC      ABCGG    SpAbs_A     SpAD_A   LogEE_A     VE1_A  \\\n",
       "0     12.227664  11.114914  20.147227  20.147227  3.699345  3.673300   \n",
       "1     23.815569  19.774822  39.913068  39.913068  4.364259  4.641129   \n",
       "2     28.674108  23.571954  46.615926  46.615926  4.538757  4.829968   \n",
       "3     27.898052  22.843849  45.596425  45.596425  4.511609  4.747241   \n",
       "4     28.674108  23.571954  46.615926  46.615926  4.538757  4.829968   \n",
       "...         ...        ...        ...        ...       ...       ...   \n",
       "2353   6.359730   6.827704   9.020980   9.020980  3.049706  2.740544   \n",
       "2354  14.130205  12.708546  24.177566  24.177566  3.856159  3.569641   \n",
       "2355  14.268104  12.190940  23.133418  23.133418  3.844436  3.749222   \n",
       "2356  12.118275  10.788639  20.038433  20.038433  3.694168  3.414212   \n",
       "2357  12.118275  10.788639  20.038433  20.038433  3.694168  3.414212   \n",
       "\n",
       "         VE3_A     VR3_A  nAromAtom  nAromBond  ...    ATS2pe     ATS3pe  \\\n",
       "0     1.771094  4.818309          6          6  ...  374.6035   476.1766   \n",
       "1     2.633570  6.823750         12         12  ...  674.0802   801.0117   \n",
       "2     2.883173  7.456212         16         17  ...  778.2712  1033.6904   \n",
       "3     2.838498  7.483839         16         17  ...  788.4776  1045.2584   \n",
       "4     2.883173  7.456212         16         17  ...  762.9439   980.7839   \n",
       "...        ...       ...        ...        ...  ...       ...        ...   \n",
       "2353  0.902796  3.039410          0          0  ...  150.0741   202.3492   \n",
       "2354  1.914319  5.990343          9         10  ...  421.3416   493.3588   \n",
       "2355  1.909335  5.343208         13         15  ...  388.5782   479.7767   \n",
       "2356  1.697950  5.573446          9         10  ...  308.5821   350.8938   \n",
       "2357  1.697950  5.573446          9         10  ...  286.1421   301.2178   \n",
       "\n",
       "         ATS4pe     ATS5pe     ATS6pe       ATS7pe       ATS8pe      ATS0p  \\\n",
       "0      468.3444   380.1786   338.2281   261.438200   173.804000  39.106397   \n",
       "1      976.0827  1062.6022  1045.4281  1031.147200   849.846700  76.282916   \n",
       "2     1193.5495  1226.4257  1297.9612  1265.847600  1199.969600  99.091334   \n",
       "3     1206.8935  1235.5457  1305.8908  1276.340400  1204.865600  99.337356   \n",
       "4     1167.5085  1212.4407  1263.5126  1239.231300  1156.416600  96.056413   \n",
       "...         ...        ...        ...          ...          ...        ...   \n",
       "2353   132.6676    52.9760     9.6800  1132.339767  1113.781874  24.059421   \n",
       "2354   561.3676   514.0288   441.0705   414.020900   291.288500  46.215931   \n",
       "2355   525.7972   438.4305   450.0130   348.002500   289.281000  50.998406   \n",
       "2356   351.8510   308.4577   251.1375   216.282200   147.178000  37.327250   \n",
       "2357   302.1750   268.5717   211.2515   179.278200   116.554000  36.438024   \n",
       "\n",
       "           ATS1p  target  \n",
       "0      50.034772       1  \n",
       "1      98.447958       0  \n",
       "2     124.712358       1  \n",
       "3     125.600107       1  \n",
       "4     119.586149       1  \n",
       "...          ...     ...  \n",
       "2353   23.911498       0  \n",
       "2354   57.473317       0  \n",
       "2355   65.219365       0  \n",
       "2356   45.523175       0  \n",
       "2357   43.296086       0  \n",
       "\n",
       "[2358 rows x 101 columns]"
      ]
     },
     "execution_count": 3,
     "metadata": {},
     "output_type": "execute_result"
    }
   ],
   "source": [
    "# First 5 rows of our data\n",
    "df"
   ]
  },
  {
   "cell_type": "code",
   "execution_count": 4,
   "metadata": {
    "_uuid": "00af1961381609399dd80ca7c6a950277c120357"
   },
   "outputs": [
    {
     "data": {
      "text/plain": [
       "1    1298\n",
       "0    1060\n",
       "Name: target, dtype: int64"
      ]
     },
     "execution_count": 4,
     "metadata": {},
     "output_type": "execute_result"
    }
   ],
   "source": [
    "df.target.value_counts()"
   ]
  },
  {
   "cell_type": "code",
   "execution_count": 5,
   "metadata": {
    "_uuid": "f0c639a82d794e41978199f7fa4405a01a7b805e"
   },
   "outputs": [
    {
     "data": {
      "image/png": "[encoded data removed]",
      "text/plain": [
       "<Figure size 432x288 with 1 Axes>"
      ]
     },
     "metadata": {
      "needs_background": "light"
     },
     "output_type": "display_data"
    }
   ],
   "source": [
    "sns.countplot(x=\"target\", data=df, palette=\"bwr\")\n",
    "plt.show()"
   ]
  },
  {
   "cell_type": "code",
   "execution_count": 6,
   "metadata": {
    "_uuid": "dd20ffc31d87de07a6f2941b0500cda8c0b1b8e6"
   },
   "outputs": [
    {
     "name": "stdout",
     "output_type": "stream",
     "text": [
      "Percentage of values with False: 44.95%\n",
      "Percentage of values with True: 55.05%\n"
     ]
    }
   ],
   "source": [
    "countNoDisease = len(df[df.target == False])\n",
    "countHaveDisease = len(df[df.target == True])\n",
    "print(\"Percentage of values with False: {:.2f}%\".format((countNoDisease / (len(df.target))*100)))\n",
    "print(\"Percentage of values with True: {:.2f}%\".format((countHaveDisease / (len(df.target))*100)))"
   ]
  },
  {
   "cell_type": "code",
   "execution_count": 7,
   "metadata": {
    "_uuid": "2e4577118ef837e24c955ea81562d8fb51a22b1c"
   },
   "outputs": [],
   "source": [
    "y = df.target.values\n",
    "x_data = df.drop(['target'], axis = 1)"
   ]
  },
  {
   "cell_type": "code",
   "execution_count": 8,
   "metadata": {
    "_uuid": "c60916b235e1962a53f95593b8d020c0acc079ed"
   },
   "outputs": [],
   "source": [
    "# Normalize\n",
    "x = (x_data - np.min(x_data)) / (np.max(x_data) - np.min(x_data)).values"
   ]
  },
  {
   "cell_type": "code",
   "execution_count": 9,
   "metadata": {
    "_uuid": "3090d1ba1e8776706d23a1175db6d1451908a954"
   },
   "outputs": [],
   "source": [
    "x_train, x_test, y_train, y_test = train_test_split(x,y,test_size = 0.2,random_state=0)"
   ]
  },
  {
   "cell_type": "code",
   "execution_count": 10,
   "metadata": {},
   "outputs": [],
   "source": [
    "#x_train, x_val, y_train, y_val = train_test_split(x_train,y_train,test_size = 0.10,random_state=0)"
   ]
  },
  {
   "cell_type": "code",
   "execution_count": 11,
   "metadata": {
    "_uuid": "880e2db253fd1125bfa065ba0ae8840b68687e42"
   },
   "outputs": [],
   "source": [
    "#transpose matrices\n",
    "x_train = x_train.T\n",
    "y_train = y_train.T\n",
    "x_test = x_test.T\n",
    "y_test = y_test.T\n",
    "#x_val = x_val.T\n",
    "#y_val = y_val.T"
   ]
  },
  {
   "cell_type": "code",
   "execution_count": 12,
   "metadata": {
    "_uuid": "b5d2956d9f265b47645ec2a6cd2eb7d50af5783a"
   },
   "outputs": [
    {
     "name": "stdout",
     "output_type": "stream",
     "text": [
      "76.69491525423729\n",
      "88.54718981972428\n"
     ]
    }
   ],
   "source": [
    "# KNN Model\n",
    "from sklearn.neighbors import KNeighborsClassifier\n",
    "knn = KNeighborsClassifier(n_neighbors = 2)  # n_neighbors means k\n",
    "knn.fit(x_train.T, y_train.T)\n",
    "predictions = knn.predict(x_test.T)\n",
    "predictions_tr = knn.predict(x_train.T)\n",
    "acc = knn.score(x_test.T,y_test.T)*100\n",
    "acc_tr =knn.score(x_train.T,y_train.T)*100\n",
    "print(acc)\n",
    "print(acc_tr)\n",
    "#predictions_val = knn.predict(x_val.T)\n",
    "#acc_val =knn.score(x_val.T,y_val.T)*100\n",
    "#print(acc_val)"
   ]
  },
  {
   "cell_type": "code",
   "execution_count": 13,
   "metadata": {
    "_uuid": "8db6f0c13aa1462624cf0da04a03c9ee4db8a991"
   },
   "outputs": [
    {
     "data": {
      "image/png": "[encoded data removed]",
      "text/plain": [
       "<Figure size 432x288 with 1 Axes>"
      ]
     },
     "metadata": {
      "needs_background": "light"
     },
     "output_type": "display_data"
    }
   ],
   "source": [
    "# try ro find best k value\n",
    "scoreList = []\n",
    "for i in range(1,20):\n",
    "    knn2 = KNeighborsClassifier(n_neighbors = i)  # n_neighbors means k\n",
    "    knn2.fit(x_train.T, y_train.T)\n",
    "    scoreList.append(knn2.score(x_test.T, y_test.T))\n",
    "    \n",
    "plt.plot(range(1,20), scoreList)\n",
    "plt.xticks(np.arange(1,20,1))\n",
    "plt.xlabel(\"K value\")\n",
    "plt.ylabel(\"Score\")\n",
    "plt.show()\n"
   ]
  },
  {
   "cell_type": "code",
   "execution_count": 14,
   "metadata": {},
   "outputs": [
    {
     "name": "stdout",
     "output_type": "stream",
     "text": [
      "[0.81481481 0.7989418  0.84656085 0.75661376 0.82539683 0.75661376\n",
      " 0.80319149 0.7393617  0.77659574 0.76595745]\n",
      "0.7884048181920521\n"
     ]
    }
   ],
   "source": [
    "from sklearn.model_selection import cross_val_score\n",
    "accuracies = cross_val_score(estimator=knn2, X=x_train.T, y=y_train.T, cv=10)\n",
    "print(accuracies)\n",
    "print(accuracies.mean())"
   ]
  },
  {
   "cell_type": "code",
   "execution_count": 15,
   "metadata": {
    "scrolled": true
   },
   "outputs": [
    {
     "name": "stdout",
     "output_type": "stream",
     "text": [
      "[[188  22]\n",
      " [ 88 174]]\n",
      "              precision    recall  f1-score   support\n",
      "\n",
      "           0       0.68      0.90      0.77       210\n",
      "           1       0.89      0.66      0.76       262\n",
      "\n",
      "    accuracy                           0.77       472\n",
      "   macro avg       0.78      0.78      0.77       472\n",
      "weighted avg       0.80      0.77      0.77       472\n",
      "\n",
      "[[846   4]\n",
      " [212 824]]\n",
      "              precision    recall  f1-score   support\n",
      "\n",
      "           0       0.80      1.00      0.89       850\n",
      "           1       1.00      0.80      0.88      1036\n",
      "\n",
      "    accuracy                           0.89      1886\n",
      "   macro avg       0.90      0.90      0.89      1886\n",
      "weighted avg       0.91      0.89      0.89      1886\n",
      "\n"
     ]
    }
   ],
   "source": [
    "cf =(confusion_matrix(y_test, predictions))\n",
    "#cf_val =(confusion_matrix(y_val, predictions_val))\n",
    "print(confusion_matrix(y_test, predictions))\n",
    "print(classification_report(y_test, predictions))\n",
    "print(confusion_matrix(y_train, predictions_tr))\n",
    "print(classification_report(y_train, predictions_tr))\n",
    "#print(confusion_matrix(y_val, predictions_val))\n",
    "#print(classification_report(y_val, predictions_val))"
   ]
  },
  {
   "cell_type": "code",
   "execution_count": 16,
   "metadata": {},
   "outputs": [
    {
     "data": {
      "text/plain": [
       "0.564117150567753"
      ]
     },
     "execution_count": 16,
     "metadata": {},
     "output_type": "execute_result"
    }
   ],
   "source": [
    "from sklearn.metrics import matthews_corrcoef\n",
    "matthews_corrcoef(y_test, predictions)"
   ]
  },
  {
   "cell_type": "code",
   "execution_count": 17,
   "metadata": {},
   "outputs": [],
   "source": [
    "#from sklearn.metrics import matthews_corrcoef\n",
    "#matthews_corrcoef(y_val, predictions_val)"
   ]
  },
  {
   "cell_type": "code",
   "execution_count": 18,
   "metadata": {},
   "outputs": [
    {
     "data": {
      "text/plain": [
       "<matplotlib.axes._subplots.AxesSubplot at 0x27bde2baa90>"
      ]
     },
     "execution_count": 18,
     "metadata": {},
     "output_type": "execute_result"
    },
    {
     "data": {
      "image/png": "[encoded data removed]",
      "text/plain": [
       "<Figure size 432x288 with 1 Axes>"
      ]
     },
     "metadata": {
      "needs_background": "light"
     },
     "output_type": "display_data"
    }
   ],
   "source": [
    "cf_plt =sns.heatmap(cf,annot=True,cmap=\"Blues\",fmt=\"d\",cbar=False, annot_kws={\"size\": 24})\n",
    "cf_plt.set(xlabel = \"True Value\", ylabel =\"Actual Value\")\n",
    "cf_plt"
   ]
  },
  {
   "cell_type": "code",
   "execution_count": 19,
   "metadata": {},
   "outputs": [],
   "source": [
    "#cf_plt =sns.heatmap(cf_val,annot=True,cmap=\"Blues\",fmt=\"d\",cbar=False, annot_kws={\"size\": 24})\n",
    "#cf_plt.set(xlabel = \"True Value\", ylabel =\"Actual Value\")\n",
    "#cf_plt"
   ]
  },
  {
   "cell_type": "code",
   "execution_count": 20,
   "metadata": {},
   "outputs": [
    {
     "name": "stdout",
     "output_type": "stream",
     "text": [
      "AUC = 0.780)\n",
      "R2 = 0.056)\n",
      "MSE = 0.233)\n",
      "MBE = -0.140)\n",
      "RMSE = 0.483)\n",
      "Variance = 0.243)\n",
      "Bias = 0.023)\n"
     ]
    }
   ],
   "source": [
    "#parameters\n",
    "r_auc_score = roc_auc_score(y_test, predictions)\n",
    "print('AUC = %0.3f)' % r_auc_score)\n",
    "rsquare = r2_score(y_test, predictions)\n",
    "print('R2 = %0.3f)' % rsquare)\n",
    "#mae = mean_absolute_error(y_test, predictions)\n",
    "#print('MAE = %0.3f)' % mae)\n",
    "mse = mean_squared_error(y_test, predictions)\n",
    "print('MSE = %0.3f)' % mse)\n",
    "mbe = np.mean(predictions - y_test)\n",
    "print('MBE = %0.3f)'% mbe)\n",
    "rmse = mse** (1/2)\n",
    "print('RMSE = %0.3f)' % rmse)\n",
    "variance = np.var(predictions)\n",
    "print('Variance = %0.3f)'% variance)\n",
    "sse = np.mean((np.mean(predictions) - y)** 2)\n",
    "bias = sse - variance\n",
    "print('Bias = %0.3f)'% bias)"
   ]
  },
  {
   "cell_type": "code",
   "execution_count": 21,
   "metadata": {},
   "outputs": [
    {
     "name": "stdout",
     "output_type": "stream",
     "text": [
      "[0.33587786 0.1047619 ]\n",
      "[0.1047619  0.33587786]\n",
      "[0.31884058 0.1122449 ]\n"
     ]
    }
   ],
   "source": [
    "#fall out\n",
    "FP = cf.sum(axis=0) - np.diag(cf) \n",
    "FN = cf.sum(axis=1) - np.diag(cf)\n",
    "TP = np.diag(cf)\n",
    "TN = cf.sum() - (FP + FN + TP)\n",
    "FP = FP.astype(float)\n",
    "FN = FN.astype(float)\n",
    "TP = TP.astype(float)\n",
    "TN = TN.astype(float)\n",
    "# Sensitivity, hit rate, recall, or true positive rate\n",
    "#TPR = TP/(TP+FN)\n",
    "# Specificity or true negative rate\n",
    "#TNR = TN/(TN+FP) \n",
    "# Precision or positive predictive value\n",
    "#PPV = TP/(TP+FP)\n",
    "# Negative predictive value\n",
    "#NPV = TN/(TN+FN)\n",
    "# Fall out or false positive rate\n",
    "FPR = FP/(FP+TN)\n",
    "# False negative rate\n",
    "FNR = FN/(TP+FN)\n",
    "# False discovery rate\n",
    "FDR = FP/(TP+FP)\n",
    "# Overall accuracy for each class\n",
    "#ACC = (TP+TN)/(TP+FP+FN+TN)\n",
    "print(FPR)\n",
    "print(FNR)\n",
    "print(FDR)"
   ]
  },
  {
   "cell_type": "code",
   "execution_count": 22,
   "metadata": {},
   "outputs": [
    {
     "name": "stdout",
     "output_type": "stream",
     "text": [
      "complete\n"
     ]
    }
   ],
   "source": [
    "print(\"complete\")"
   ]
  }
 ],
 "metadata": {
  "kernelspec": {
   "display_name": "Python 3",
   "language": "python",
   "name": "python3"
  },
  "language_info": {
   "codemirror_mode": {
    "name": "ipython",
    "version": 3
   },
   "file_extension": ".py",
   "mimetype": "text/x-python",
   "name": "python",
   "nbconvert_exporter": "python",
   "pygments_lexer": "ipython3",
   "version": "3.8.3"
  },
  "toc": {
   "base_numbering": 1,
   "nav_menu": {},
   "number_sections": true,
   "sideBar": true,
   "skip_h1_title": false,
   "title_cell": "Table of Contents",
   "title_sidebar": "Contents",
   "toc_cell": false,
   "toc_position": {},
   "toc_section_display": true,
   "toc_window_display": false
  }
 },
 "nbformat": 4,
 "nbformat_minor": 1
}
